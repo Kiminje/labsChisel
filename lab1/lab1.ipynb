{
 "cells": [
  {
   "cell_type": "markdown",
   "id": "ongoing-flower",
   "metadata": {},
   "source": [
    "Before you turn this problem in, make sure everything runs as expected. First, **restart the kernel** (in the menubar, select Kernel$\\rightarrow$Restart) and then **run all cells** (in the menubar, select Cell$\\rightarrow$Run All).\n",
    "\n",
    "Make sure you fill in any place that says `YOUR CODE HERE` or \"YOUR ANSWER HERE\", as well as your name and collaborators below:"
   ]
  },
  {
   "cell_type": "code",
   "execution_count": null,
   "id": "featured-subcommittee",
   "metadata": {},
   "outputs": [],
   "source": [
    "val NAME = \"\"\n",
    "val COLLABORATORS = \"\""
   ]
  },
  {
   "cell_type": "markdown",
   "id": "terminal-ethnic",
   "metadata": {},
   "source": [
    "---"
   ]
  },
  {
   "cell_type": "markdown",
   "id": "sweet-indianapolis",
   "metadata": {
    "cell_style": "center",
    "deletable": false,
    "editable": false,
    "nbgrader": {
     "cell_type": "markdown",
     "checksum": "4491311168b36d735fada74e85caabfd",
     "grade": false,
     "grade_id": "header",
     "locked": true,
     "schema_version": 3,
     "solution": false,
     "task": false
    },
    "slideshow": {
     "slide_type": "slide"
    }
   },
   "source": [
    "# Lab1 Intro to Scala and Chisel\n",
    "> Labs will be due each week before the homeworks. They are not intended take a significant amount of time but rather to provide examples/practice on specific and isolated features in the language. Labs are autograded so you can get quick feedback."
   ]
  },
  {
   "cell_type": "markdown",
   "id": "exceptional-member",
   "metadata": {
    "deletable": false,
    "editable": false,
    "nbgrader": {
     "cell_type": "markdown",
     "checksum": "9f555f0f7ac7048748fcf1a467a08721",
     "grade": false,
     "grade_id": "imports-header",
     "locked": true,
     "schema_version": 3,
     "solution": false,
     "task": false
    }
   },
   "source": [
    "### Import the necessary Chisel dependencies. \n",
    "> There will be a cell like this in every lab. Make sure you run it before proceeding to bring the Chisel Library into the Jupyter Notebook scope!"
   ]
  },
  {
   "cell_type": "code",
   "execution_count": null,
   "id": "fabulous-fleet",
   "metadata": {
    "deletable": false,
    "editable": false,
    "nbgrader": {
     "cell_type": "code",
     "checksum": "94ba359193bad0358a854d6ad9e2a676",
     "grade": false,
     "grade_id": "imports1",
     "locked": true,
     "schema_version": 3,
     "solution": false,
     "task": false
    }
   },
   "outputs": [],
   "source": [
    "val path = System.getProperty(\"user.dir\") + \"/../resource/chisel_deps.sc\"\n",
    "interp.load.module(ammonite.ops.Path(java.nio.file.FileSystems.getDefault().getPath(path)))"
   ]
  },
  {
   "cell_type": "code",
   "execution_count": null,
   "id": "psychological-violation",
   "metadata": {
    "deletable": false,
    "editable": false,
    "nbgrader": {
     "cell_type": "code",
     "checksum": "983b6f254eef272a20e1a6a44677fe6b",
     "grade": false,
     "grade_id": "imports",
     "locked": true,
     "schema_version": 3,
     "solution": false,
     "task": false
    }
   },
   "outputs": [],
   "source": [
    "import chisel3._\n",
    "import chisel3.util._\n",
    "import chiseltest._\n",
    "import chisel3.tester.RawTester.test"
   ]
  },
  {
   "cell_type": "markdown",
   "id": "sexual-carroll",
   "metadata": {
    "deletable": false,
    "editable": false,
    "nbgrader": {
     "cell_type": "markdown",
     "checksum": "63f0ff47a2a529e36411a5419098b23c",
     "grade": false,
     "grade_id": "conditionals-header",
     "locked": true,
     "schema_version": 3,
     "solution": false,
     "task": false
    }
   },
   "source": [
    "## Problem 1 (2 pts) - Scala conditionals\n",
    "> Practice with Scala's if/else. Return `\"heads\"` if `flip` is `true`, else return `\"tails\"`"
   ]
  },
  {
   "cell_type": "code",
   "execution_count": null,
   "id": "owned-chancellor",
   "metadata": {
    "deletable": false,
    "nbgrader": {
     "cell_type": "code",
     "checksum": "7993e440bb620f0243da3ab5e675bf4f",
     "grade": false,
     "grade_id": "ScalaCondPractice",
     "locked": false,
     "schema_version": 3,
     "solution": true,
     "task": false
    }
   },
   "outputs": [],
   "source": [
    "def scalaCondPractice(flip: Boolean): String = {\n",
    "    // YOUR CODE HERE\n",
    "    ???\n",
    "}"
   ]
  },
  {
   "cell_type": "code",
   "execution_count": null,
   "id": "martial-details",
   "metadata": {
    "deletable": false,
    "editable": false,
    "nbgrader": {
     "cell_type": "code",
     "checksum": "bf8fd19f2730b3d1a319fa0beb453760",
     "grade": true,
     "grade_id": "scp-test",
     "locked": true,
     "points": 2,
     "schema_version": 3,
     "solution": false,
     "task": false
    }
   },
   "outputs": [],
   "source": [
    "assert(scalaCondPractice(true) == \"heads\")\n",
    "assert(scalaCondPractice(false) == \"tails\")"
   ]
  },
  {
   "cell_type": "markdown",
   "id": "identical-vehicle",
   "metadata": {
    "deletable": false,
    "editable": false,
    "nbgrader": {
     "cell_type": "markdown",
     "checksum": "5bee9fb03c4ab63fda9693b9580d2aa4",
     "grade": false,
     "grade_id": "cell-4310bf1dd699ea36",
     "locked": true,
     "schema_version": 3,
     "solution": false,
     "task": false
    }
   },
   "source": [
    "## Problem 2 (3 pts) - Writing a Chisel Module's IO\n",
    "> Fill in the given module's IO such that it takes two 4-bit `UInt`s as input and returns a 5-bit sum as output. "
   ]
  },
  {
   "cell_type": "code",
   "execution_count": null,
   "id": "acknowledged-netherlands",
   "metadata": {
    "deletable": false,
    "nbgrader": {
     "cell_type": "code",
     "checksum": "cd59f254738f810c7618a878a0c23055",
     "grade": false,
     "grade_id": "addTwo",
     "locked": false,
     "schema_version": 3,
     "solution": true,
     "task": false
    }
   },
   "outputs": [],
   "source": [
    "class AddTwo extends Module {\n",
    "    // val io = ???\n",
    "    // YOUR CODE HERE\n",
    "    ???\n",
    "    \n",
    "    io.out := io.in1 +& io.in2\n",
    "}"
   ]
  },
  {
   "cell_type": "code",
   "execution_count": null,
   "id": "israeli-piece",
   "metadata": {
    "deletable": false,
    "editable": false,
    "nbgrader": {
     "cell_type": "code",
     "checksum": "5ce741fc555c64f44514597cf51117f0",
     "grade": true,
     "grade_id": "testAddTwo",
     "locked": true,
     "points": 3,
     "schema_version": 3,
     "solution": false,
     "task": false
    }
   },
   "outputs": [],
   "source": [
    "def testAddTwo: Boolean = {\n",
    "    test(new AddTwo) { c =>\n",
    "        for (i <- 0 until 16) {\n",
    "            for (j <- 0 until 16) {\n",
    "                c.io.in1.poke(i.U)\n",
    "                c.io.in2.poke(j.U)\n",
    "                c.io.out.expect((i+j).U)\n",
    "            }\n",
    "        }\n",
    "    }\n",
    "    true\n",
    "}\n",
    "\n",
    "assert(testAddTwo)"
   ]
  },
  {
   "cell_type": "markdown",
   "id": "noticed-cooling",
   "metadata": {
    "deletable": false,
    "editable": false,
    "nbgrader": {
     "cell_type": "markdown",
     "checksum": "a8587563cf1b128f2a83814f3d150eba",
     "grade": false,
     "grade_id": "CombLogic-header",
     "locked": true,
     "schema_version": 3,
     "solution": false,
     "task": false
    }
   },
   "source": [
    "## Problem 3 (3 pts) - Combinational Logic\n",
    "> Assign the boolean expression: `(a AND b) OR (NOT c)` to the module's output. "
   ]
  },
  {
   "cell_type": "code",
   "execution_count": null,
   "id": "complicated-george",
   "metadata": {
    "deletable": false,
    "nbgrader": {
     "cell_type": "code",
     "checksum": "a27cd34c4cd2b84dfd0e48f11bbb3f79",
     "grade": false,
     "grade_id": "CombLogic",
     "locked": false,
     "schema_version": 3,
     "solution": true,
     "task": false
    }
   },
   "outputs": [],
   "source": [
    "class CombLogic extends Module {\n",
    "    val io = IO(new Bundle {\n",
    "        val a   = Input(Bool())\n",
    "        val b   = Input(Bool())\n",
    "        val c   = Input(Bool())\n",
    "        val out = Output(Bool())\n",
    "    })\n",
    "    \n",
    "    // YOUR CODE HERE\n",
    "    ???\n",
    "    \n",
    "    // We can print state like this everytime `step()` is called in our test\n",
    "    printf(p\"a: ${io.a}, b: ${io.b}, c: ${io.c}, out: ${io.out}\\n\")\n",
    "}"
   ]
  },
  {
   "cell_type": "markdown",
   "id": "compatible-brave",
   "metadata": {
    "deletable": false,
    "editable": false,
    "nbgrader": {
     "cell_type": "markdown",
     "checksum": "3b6add7366909048df6b08e432938729",
     "grade": false,
     "grade_id": "testCombLogic-header",
     "locked": true,
     "schema_version": 3,
     "solution": false,
     "task": false
    }
   },
   "source": [
    "## Problem 4 (4 pts) - Combinational Logic Test\n",
    "> Write your own test that tests `CombLogic` exhaustively for all input values `a, b, and c`. The module should return `true` if and only if all calls to `dut.io.out.expect(...)` succeed."
   ]
  },
  {
   "cell_type": "code",
   "execution_count": null,
   "id": "circular-course",
   "metadata": {
    "deletable": false,
    "nbgrader": {
     "cell_type": "code",
     "checksum": "1fc94d98a277009cd779b8741e55f10d",
     "grade": false,
     "grade_id": "testCombLogic",
     "locked": false,
     "schema_version": 3,
     "solution": true,
     "task": false
    }
   },
   "outputs": [],
   "source": [
    "def testCombLogic: Boolean = {\n",
    "    test(new CombLogic) { dut =>\n",
    "        \n",
    "        // YOUR CODE HERE\n",
    "        ???\n",
    "    }\n",
    "    true\n",
    "}"
   ]
  },
  {
   "cell_type": "code",
   "execution_count": null,
   "id": "selective-joshua",
   "metadata": {
    "deletable": false,
    "editable": false,
    "nbgrader": {
     "cell_type": "code",
     "checksum": "9b3abea251458a75ffbd2b0e5a504c3a",
     "grade": true,
     "grade_id": "testCombLogic-test",
     "locked": true,
     "points": 4,
     "schema_version": 3,
     "solution": false,
     "task": false
    }
   },
   "outputs": [],
   "source": [
    "assert(testCombLogic)\n"
   ]
  },
  {
   "cell_type": "markdown",
   "id": "enhanced-swift",
   "metadata": {
    "deletable": false,
    "editable": false,
    "nbgrader": {
     "cell_type": "markdown",
     "checksum": "4a798c8a6640b9c22c8ce969972ae81c",
     "grade": false,
     "grade_id": "scalaCond-header",
     "locked": true,
     "schema_version": 3,
     "solution": false,
     "task": false
    }
   },
   "source": [
    "## Problem 5 (3 pts) - Scala Conditional in Chisel modules\n",
    "> At hardware generation time we can use Scala conditionals to change which hardware is created within a module. In this exercise, if the `useAnd` argument is `true`, then output `a && b` otherwise output `a || b`. The module's verilog should contain only `AND` logic or `OR` logic, but not both."
   ]
  },
  {
   "cell_type": "code",
   "execution_count": null,
   "id": "romance-african",
   "metadata": {
    "deletable": false,
    "nbgrader": {
     "cell_type": "code",
     "checksum": "8f023de2d1c4e162ab0877cbcc420f16",
     "grade": false,
     "grade_id": "AndOrCompileTime",
     "locked": false,
     "schema_version": 3,
     "solution": true,
     "task": false
    }
   },
   "outputs": [],
   "source": [
    "class AndOrGenerationTime(useAnd: Boolean) extends Module {\n",
    "    val io = IO(new Bundle {\n",
    "        val a   = Input(Bool())\n",
    "        val b   = Input(Bool())\n",
    "        val out = Output(Bool())\n",
    "    })\n",
    "    \n",
    "    // YOUR CODE HERE\n",
    "    ???\n",
    "}"
   ]
  },
  {
   "cell_type": "code",
   "execution_count": null,
   "id": "scheduled-armor",
   "metadata": {
    "deletable": false,
    "editable": false,
    "nbgrader": {
     "cell_type": "code",
     "checksum": "bf0a38f7260f4946ff5fad4cf8b14104",
     "grade": true,
     "grade_id": "testAndOrCompileTime",
     "locked": true,
     "points": 3,
     "schema_version": 3,
     "solution": false,
     "task": false
    }
   },
   "outputs": [],
   "source": [
    "def testAndOrGenerationTime(useAnd: Boolean): Boolean = {\n",
    "    test(new AndOrGenerationTime(useAnd)) { dut =>\n",
    "        for (a <- Seq(true, false)) {\n",
    "            for (b <- Seq(true, false)) {\n",
    "                dut.io.a.poke(a.B)\n",
    "                dut.io.b.poke(b.B)\n",
    "                if (useAnd) dut.io.out.expect((a && b).B)\n",
    "                else        dut.io.out.expect((a || b).B)\n",
    "            }\n",
    "        }\n",
    "    }\n",
    "    true\n",
    "}\n",
    "assert(testAndOrGenerationTime(useAnd = true))\n",
    "assert(testAndOrGenerationTime(useAnd = false))"
   ]
  },
  {
   "cell_type": "markdown",
   "id": "outdoor-reputation",
   "metadata": {
    "deletable": false,
    "editable": false,
    "nbgrader": {
     "cell_type": "markdown",
     "checksum": "331aaf86cd06bfed13735a13ab1a51f3",
     "grade": false,
     "grade_id": "ChiselCond-header",
     "locked": true,
     "schema_version": 3,
     "solution": false,
     "task": false
    }
   },
   "source": [
    "## Problem 6 (3 pts) - Chisel Conditional in Chisel modules\n",
    "> The generated hardware can use conditionals (i.e `Mux` or `when/elsewhen/otherwise`) to select which signals to assign. In this exercise, `useAnd` is an `Input` to the module. If `useAnd` is `true`, then set output `out` to the result of `a && b` otherwise to `a || b`. In this example both the logic for `a && b` and `a || b` hardware will be generated. You may use either a Chisel `Mux` or the Chisel `when` statements."
   ]
  },
  {
   "cell_type": "code",
   "execution_count": null,
   "id": "minus-motorcycle",
   "metadata": {
    "deletable": false,
    "nbgrader": {
     "cell_type": "code",
     "checksum": "ee80d14ac4ab33e27bfc94afeac4a973",
     "grade": false,
     "grade_id": "AndOrRunTime",
     "locked": false,
     "schema_version": 3,
     "solution": true,
     "task": false
    }
   },
   "outputs": [],
   "source": [
    "class AndOrRunTime extends Module {\n",
    "    val io = IO(new Bundle {\n",
    "        val a      = Input(Bool())\n",
    "        val b      = Input(Bool())\n",
    "        val useAnd = Input(Bool())\n",
    "        val out    = Output(Bool())\n",
    "    })\n",
    "    \n",
    "    // YOUR CODE HERE\n",
    "    ???\n",
    "}"
   ]
  },
  {
   "cell_type": "code",
   "execution_count": null,
   "id": "sticky-midwest",
   "metadata": {
    "deletable": false,
    "editable": false,
    "nbgrader": {
     "cell_type": "code",
     "checksum": "17b688d068b75fdf74bba55d29f4e79c",
     "grade": true,
     "grade_id": "testAndOrRunTime",
     "locked": true,
     "points": 3,
     "schema_version": 3,
     "solution": false,
     "task": false
    }
   },
   "outputs": [],
   "source": [
    "def testAndOrRunTime: Boolean = {\n",
    "    test(new AndOrRunTime) { dut =>\n",
    "        for (a <- Seq(true, false)) {\n",
    "            for (b <- Seq(true, false)) {\n",
    "                for (useAnd <- Seq(true, false)) {\n",
    "                    dut.io.a.poke(a.B)\n",
    "                    dut.io.b.poke(b.B)\n",
    "                    dut.io.useAnd.poke(useAnd.B)\n",
    "                    if (useAnd) dut.io.out.expect((a && b).B)\n",
    "                    else        dut.io.out.expect((a || b).B)\n",
    "                }\n",
    "            }\n",
    "        }\n",
    "    }\n",
    "    true\n",
    "}\n",
    "assert(testAndOrRunTime)"
   ]
  },
  {
   "cell_type": "markdown",
   "id": "imperial-visit",
   "metadata": {
    "deletable": false,
    "editable": false,
    "nbgrader": {
     "cell_type": "markdown",
     "checksum": "31ec9e06a8282a7884d7a38d55442a22",
     "grade": false,
     "grade_id": "lastConnect-header",
     "locked": true,
     "schema_version": 3,
     "solution": false,
     "task": false
    }
   },
   "source": [
    "## Problem 7 (2 pts) - Last connect semantics\n",
    "> When assigning Chisel values, the last connection is the one that wins. In the module below the default output is `5.U` because `out` is assigned to `5.U` after `4.U`. Use a `when` statement to conditionally output `10.U` when the input `update` is set high or output its default when `update` is set low."
   ]
  },
  {
   "cell_type": "code",
   "execution_count": null,
   "id": "frank-physiology",
   "metadata": {
    "deletable": false,
    "nbgrader": {
     "cell_type": "code",
     "checksum": "b0c070b27061872fdcc548f6d47880a0",
     "grade": false,
     "grade_id": "LastConnect",
     "locked": false,
     "schema_version": 3,
     "solution": true,
     "task": false
    }
   },
   "outputs": [],
   "source": [
    "class LastConnect extends Module {\n",
    "    val io = IO(new Bundle {\n",
    "        val update = Input(Bool())\n",
    "        val out    = Output(UInt())\n",
    "    })\n",
    "    \n",
    "    io.out := 4.U\n",
    "    io.out := 5.U\n",
    "    // YOUR CODE HERE\n",
    "    ???\n",
    "    \n",
    "}"
   ]
  },
  {
   "cell_type": "code",
   "execution_count": null,
   "id": "nonprofit-omega",
   "metadata": {
    "deletable": false,
    "editable": false,
    "nbgrader": {
     "cell_type": "code",
     "checksum": "697d4bcc8c1e6c856d5eb448bb56ee7e",
     "grade": true,
     "grade_id": "testLastConnect",
     "locked": true,
     "points": 2,
     "schema_version": 3,
     "solution": false,
     "task": false
    }
   },
   "outputs": [],
   "source": [
    "def testLastConnect: Boolean = {\n",
    "    test(new LastConnect) { dut =>\n",
    "        dut.io.update.poke(true.B)\n",
    "        dut.io.out.expect(10.U)\n",
    "        \n",
    "        dut.io.update.poke(false.B)\n",
    "        dut.io.out.expect(5.U)\n",
    "    }\n",
    "    true\n",
    "}\n",
    "assert(testLastConnect)"
   ]
  },
  {
   "cell_type": "markdown",
   "id": "german-forward",
   "metadata": {
    "deletable": false,
    "editable": false,
    "nbgrader": {
     "cell_type": "markdown",
     "checksum": "0387a582e7f3e3a0725fd5c12f5baa0d",
     "grade": false,
     "grade_id": "relu-header",
     "locked": true,
     "schema_version": 3,
     "solution": false,
     "task": false
    }
   },
   "source": [
    "## Problem 8 (5 pts) - Simple ReLU\n",
    "> Let's put together some of these techniques to build a more complicated module. A ReLU or rectified linear unit is a function used in ML. (https://en.wikipedia.org/wiki/Rectifier_(neural_networks))\n",
    "\n",
    "To combine everything we've learned so far we will slightly modify the function to saturate at a parameterized upper-bound of our choosing. The module will model this function: `f(x, upper_bound) = max(0, min(x, upperBound))`.\n",
    "\n",
    "Here is an example where we parameterize `upperBound` to equal `3`, note the input `x` and output `y` will be of type SInt.\n",
    "\n",
    "<img src=\"images/relu.png\" style=\"width:60%;\">"
   ]
  },
  {
   "cell_type": "code",
   "execution_count": null,
   "id": "informative-surface",
   "metadata": {
    "deletable": false,
    "nbgrader": {
     "cell_type": "code",
     "checksum": "c67dc3d1e9de73019b3de254ddff2340",
     "grade": false,
     "grade_id": "relu",
     "locked": false,
     "schema_version": 3,
     "solution": true,
     "task": false
    }
   },
   "outputs": [],
   "source": [
    "class ReLU(upperBound: Int) extends Module {\n",
    "    val io = IO(new Bundle {\n",
    "        val x = Input(SInt(5.W))\n",
    "        val y = Output(SInt(5.W))\n",
    "    })\n",
    "    // YOUR CODE HERE\n",
    "    ???\n",
    "}"
   ]
  },
  {
   "cell_type": "markdown",
   "id": "posted-monte",
   "metadata": {
    "deletable": false,
    "editable": false,
    "nbgrader": {
     "cell_type": "markdown",
     "checksum": "b9f31cbb98c2f9f492062ec3de62d511",
     "grade": false,
     "grade_id": "testrelu-header",
     "locked": true,
     "schema_version": 3,
     "solution": false,
     "task": false
    }
   },
   "source": [
    "## Problem 9 (5 pts) - ReLU Test\n",
    "> Write your own test for `ReLU` that tests `x` at input values `-1, 0, 1, 15`. The test (`testReLU`) is parameterized by `upperBound`, and you can assume `upperBound` is non-negative. The module should return `true` if and only if all calls to `dut.io.y.expect(...)` succeed."
   ]
  },
  {
   "cell_type": "code",
   "execution_count": null,
   "id": "laden-exclusion",
   "metadata": {
    "deletable": false,
    "nbgrader": {
     "cell_type": "code",
     "checksum": "ec0600818b8574423d150b31c961a3f8",
     "grade": false,
     "grade_id": "testReLu",
     "locked": false,
     "schema_version": 3,
     "solution": true,
     "task": false
    }
   },
   "outputs": [],
   "source": [
    "def testReLU(upperBound: Int): Boolean = {\n",
    "    require(upperBound >= 0)\n",
    "    test(new ReLU(upperBound)) { dut =>\n",
    "        \n",
    "    // YOUR CODE HERE\n",
    "    ???\n",
    "    true\n",
    "}"
   ]
  },
  {
   "cell_type": "code",
   "execution_count": null,
   "id": "regular-classics",
   "metadata": {
    "deletable": false,
    "editable": false,
    "nbgrader": {
     "cell_type": "code",
     "checksum": "11151c3377ce0320d52c16236ef2d660",
     "grade": true,
     "grade_id": "testRelu",
     "locked": true,
     "points": 5,
     "schema_version": 3,
     "solution": false,
     "task": false
    }
   },
   "outputs": [],
   "source": [
    "for(upperBound <- 0 until 16) {\n",
    "    println(s\"Testing ReLu, upperBound=$upperBound\")\n",
    "    assert(testReLU(upperBound))\n",
    "}"
   ]
  }
 ],
 "metadata": {
  "kernelspec": {
   "display_name": "Scala",
   "language": "scala",
   "name": "scala"
  },
  "language_info": {
   "codemirror_mode": "text/x-scala",
   "file_extension": ".scala",
   "mimetype": "text/x-scala",
   "name": "scala",
   "nbconvert_exporter": "script",
   "version": "2.12.10"
  }
 },
 "nbformat": 4,
 "nbformat_minor": 5
}
