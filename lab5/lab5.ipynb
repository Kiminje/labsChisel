{
 "cells": [
 {
   "cell_type": "markdown",
   "id": "starting-eugene",
   "metadata": {},
   "source": [
    "Before you turn this problem in, make sure everything runs as expected. First, **restart the kernel** (in the menubar, select Kernel$\\rightarrow$Restart) and then **run all cells** (in the menubar, select Cell$\\rightarrow$Run All).\n",
    "\n",
    "Make sure you fill in any place that says `YOUR CODE HERE` or \"YOUR ANSWER HERE\", as well as your name and collaborators below:"
   ]
  },
  {
   "cell_type": "code",
   "execution_count": null,
   "id": "billion-baker",
   "metadata": {},
   "outputs": [],
   "source": [
    "val NAME = \"\"\n",
    "val COLLABORATORS = \"\""
   ]
  },
  {
   "cell_type": "markdown",
   "id": "extensive-midwest",
   "metadata": {},
   "source": [
    "---"
   ]
  },
  {
   "cell_type": "markdown",
   "id": "committed-psychology",
   "metadata": {
    "cell_style": "center",
    "deletable": false,
    "editable": false,
    "nbgrader": {
     "cell_type": "markdown",
     "checksum": "6ccb16d70f26af83e793006a5ff6c21b",
     "grade": false,
     "grade_id": "header",
     "locked": true,
     "schema_version": 3,
     "solution": false,
     "task": false
    },
    "slideshow": {
     "slide_type": "slide"
    }
   },
   "source": [
    "# Lab 5 - Inheritence\n",
    "> Labs will be due each week before the homework. They are not intended take a significant amount of time but rather to provide examples/practice on specific and isolated features in the language. Labs are autograded so you can get quick feedback."
   ]
  },
  {
   "cell_type": "markdown",
   "id": "listed-window",
   "metadata": {
    "deletable": false,
    "editable": false,
    "nbgrader": {
     "cell_type": "markdown",
     "checksum": "9f555f0f7ac7048748fcf1a467a08721",
     "grade": false,
     "grade_id": "imports-header",
     "locked": true,
     "schema_version": 3,
     "solution": false,
     "task": false
    }
   },
   "source": [
    "### Import the necessary Chisel dependencies. \n",
    "> There will be a cell like this in every lab. Make sure you run it before proceeding to bring the Chisel Library into the Jupyter Notebook scope!"
   ]
  },
  {
   "cell_type": "code",
   "execution_count": null,
   "id": "bored-final",
   "metadata": {
    "deletable": false,
    "editable": false,
    "nbgrader": {
     "cell_type": "code",
     "checksum": "4b2df45a1a068e28c4eb74c45b53774e",
     "grade": false,
     "grade_id": "imports1",
     "locked": true,
     "schema_version": 3,
     "solution": false,
     "task": false
    }
   },
   "outputs": [],
   "source": [
    "interp.load.module(os.Path(s\"${System.getProperty(\"user.dir\")}/resource/chisel_deps.sc\"))"
   ]
  },
  {
   "cell_type": "code",
   "execution_count": null,
   "id": "adaptive-canon",
   "metadata": {
    "deletable": false,
    "editable": false,
    "nbgrader": {
     "cell_type": "code",
     "checksum": "983b6f254eef272a20e1a6a44677fe6b",
     "grade": false,
     "grade_id": "imports",
     "locked": true,
     "schema_version": 3,
     "solution": false,
     "task": false
    }
   },
   "outputs": [],
   "source": [
    "import chisel3._\n",
    "import chisel3.util._\n",
    "import chiseltest._\n",
    "import chisel3.tester.RawTester.test"
   ]
  },
  {
   "cell_type": "markdown",
   "id": "faced-verification",
   "metadata": {
    "deletable": false,
    "editable": false,
    "nbgrader": {
     "cell_type": "markdown",
     "checksum": "fce01ffcd5acbeb2a6bcc4656a032bd0",
     "grade": false,
     "grade_id": "prob1-header",
     "locked": true,
     "schema_version": 3,
     "solution": false,
     "task": false
    },
    "tags": []
   },
   "source": [
    "## Problem 1 (5 pts) - Method Templated for Chisel Types\n",
    "> Write a generic `connect` method that takes in two generic arguments `a` and `b` of type `chisel3.Data` and connects `a` (input) to `b` (output)."
   ]
  },
  {
   "cell_type": "code",
   "execution_count": null,
   "id": "electric-number",
   "metadata": {
    "deletable": false,
    "nbgrader": {
     "cell_type": "code",
     "checksum": "b03438d7319eb5de22b8a7173c4739a6",
     "grade": false,
     "grade_id": "prob1",
     "locked": false,
     "schema_version": 3,
     "solution": true,
     "task": false
    },
    "tags": []
   },
   "outputs": [],
   "source": [
    "// YOUR CODE HERE\n",
    "???"
   ]
  },
  {
   "cell_type": "code",
   "execution_count": null,
   "id": "virtual-organization",
   "metadata": {
    "deletable": false,
    "editable": false,
    "nbgrader": {
     "cell_type": "code",
     "checksum": "585e150893fa6d5f2a507650983ea2ee",
     "grade": true,
     "grade_id": "prob1-test",
     "locked": true,
     "points": 5,
     "schema_version": 3,
     "solution": false,
     "task": false
    },
    "tags": []
   },
   "outputs": [],
   "source": [
    "class TestConnect extends Module {\n",
    "    val io = IO(new Bundle {\n",
    "        val u = Output(UInt())\n",
    "        val s = Output(SInt())\n",
    "    })\n",
    "     \n",
    "    connect(io.u, 10.U)\n",
    "    connect(io.s, -10.S)\n",
    "}\n",
    "\n",
    "def testConnect: Boolean = {\n",
    "    test(new TestConnect) { dut =>\n",
    "        dut.io.u.expect(10.U)\n",
    "        dut.io.s.expect(-10.S)\n",
    "    }\n",
    "    true\n",
    "}\n",
    "assert(testConnect)"
   ]
  },
  {
   "cell_type": "markdown",
   "id": "rural-nation",
   "metadata": {
    "deletable": false,
    "editable": false,
    "nbgrader": {
     "cell_type": "markdown",
     "checksum": "42d895837d484bdce01fd1acdc4cb871",
     "grade": false,
     "grade_id": "prob2-header",
     "locked": true,
     "schema_version": 3,
     "solution": false,
     "task": false
    },
    "tags": []
   },
   "source": [
    "## Problem 2 (7 pts) - Case Class pattern matching and traits\n",
    "> Fill in the body of `ProcessRequest` using pattern matching to translate a requested `MealItem` into a more descriptive string. The meal items are case classes inheriting from MealItem. To see what the strings should be, look at the "
   ]
  },
  {
   "cell_type": "code",
   "execution_count": null,
   "id": "57a5ab20-d1e6-475b-902c-d686c795d209",
   "metadata": {
    "deletable": false,
    "nbgrader": {
     "cell_type": "code",
     "checksum": "32943ebb5af0b447225122d665c802f4",
     "grade": false,
     "grade_id": "prob2",
     "locked": false,
     "schema_version": 3,
     "solution": true,
     "task": false
    },
    "tags": []
   },
   "outputs": [],
   "source": [
    "abstract class MealItem\n",
    "\n",
    "case class Drink(variety: String) extends MealItem\n",
    "\n",
    "case class Burger(withCheese: Boolean) extends MealItem\n",
    "\n",
    "case object Fries extends MealItem\n",
    "\n",
    "def ProcessRequest(request: MealItem): String = {\n",
    "    request match {\n",
    "        // YOUR CODE HERE\n",
    "        ???\n",
    "    }\n",
    "}\n",
    "\n",
    "def ProcessOrder(order: Seq[MealItem]) {\n",
    "    order foreach { item => println(ProcessRequest(item)) }\n",
    "}"
   ]
  },
  {
   "cell_type": "code",
   "execution_count": null,
   "id": "f6e125aa-783e-4449-a207-a99e9a31adcd",
   "metadata": {
    "deletable": false,
    "editable": false,
    "nbgrader": {
     "cell_type": "code",
     "checksum": "f0694372a1c638f2837ee8dd93fa6f77",
     "grade": true,
     "grade_id": "prob2-tests",
     "locked": true,
     "points": 7,
     "schema_version": 3,
     "solution": false,
     "task": false
    },
    "tags": []
   },
   "outputs": [],
   "source": [
    "assert (ProcessRequest(Drink(\"water\")) == \"Water is healthy\", \"water\")\n",
    "\n",
    "assert (ProcessRequest(Drink(\"soda\")) == \"Soda is refreshing\", \"soda\")\n",
    "\n",
    "assert (ProcessRequest(Burger(true)) == \"Mmm... cheeseburger\", \"cheeseburger\")\n",
    "\n",
    "assert (ProcessRequest(Burger(false)) == \"Mmm... plain hamburger\", \"hamburger\")\n",
    "\n",
    "assert (ProcessRequest(Fries) == \"Fries were a good decision\", \"fries\")\n",
    "\n",
    "assert (ProcessRequest(Drink(\"special request\")) == \"Couldn't match Drink(special request)\", \"other\")"
   ]
  },
  {
   "cell_type": "markdown",
   "id": "fundamental-alberta",
   "metadata": {
    "deletable": false,
    "editable": false,
    "nbgrader": {
     "cell_type": "markdown",
     "checksum": "07a6649a81771040578b2f146d7401a0",
     "grade": false,
     "grade_id": "prob6-header",
     "locked": true,
     "schema_version": 3,
     "solution": false,
     "task": false
    }
   },
   "source": [
    "## Problem 3 (10 pts) - Chisel trait\n",
    "> Fill in the missing fields in the `DbgCounter` trait, so its usage below will pass its corresponding test. The purpose of this trait is to add a debug counter that prints out the current cycle if the `debug` input (Bool) is true. The trait should add an output `count` (UInt) representing the debug counter."
   ]
  },
  {
   "cell_type": "code",
   "execution_count": null,
   "id": "interesting-resource",
   "metadata": {
    "deletable": false,
    "nbgrader": {
     "cell_type": "code",
     "checksum": "b622aaad32715ead404e0d5e774c774d",
     "grade": false,
     "grade_id": "prob6",
     "locked": false,
     "schema_version": 3,
     "solution": true,
     "task": false
    }
   },
   "outputs": [],
   "source": [
    "trait DbgCounter extends MultiIOModule {\n",
    "    // YOUR CODE HERE\n",
    "    ???\n",
    "}\n",
    "\n"
   ]
  },
  {
   "cell_type": "code",
   "execution_count": null,
   "id": "usual-syndication",
   "metadata": {
    "deletable": false,
    "editable": false,
    "nbgrader": {
     "cell_type": "code",
     "checksum": "65d39bc1151ac918cbea376fec2b841f",
     "grade": true,
     "grade_id": "prob6-tests",
     "locked": true,
     "points": 10,
     "schema_version": 3,
     "solution": false,
     "task": false
    }
   },
   "outputs": [],
   "source": [
    "class TestMod(maxCycles: Int) extends MultiIOModule with DbgCounter {\n",
    "   def n = maxCycles \n",
    "}\n",
    "\n",
    "def testDbgCounter(n: Int, printDbg: Boolean): Boolean = {\n",
    "    test(new TestMod(n)) { dut =>\n",
    "        dut.debug.poke(printDbg.B)\n",
    "        for (i <- 0 until n) { \n",
    "            dut.count.expect(i.U)\n",
    "            dut.clock.step()\n",
    "        }\n",
    "        // test that counter wraps\n",
    "        dut.count.expect(0.U)\n",
    "    }\n",
    "    true\n",
    "}\n",
    "\n",
    "assert(testDbgCounter(n=5, true))\n",
    "assert(testDbgCounter(n=15, false))"
   ]
  }
 ],
 "metadata": {
  "kernelspec": {
   "display_name": "Scala",
   "language": "scala",
   "name": "scala"
  },
  "language_info": {
   "codemirror_mode": "text/x-scala",
   "file_extension": ".sc",
   "mimetype": "text/x-scala",
   "name": "scala",
   "nbconvert_exporter": "script",
   "version": "2.13.10"
  }
 },
 "nbformat": 4,
 "nbformat_minor": 5
}
