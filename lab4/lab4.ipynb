{
 "cells": [
  {
   "cell_type": "markdown",
   "id": "competitive-penalty",
   "metadata": {},
   "source": [
    "Before you turn this problem in, make sure everything runs as expected. First, **restart the kernel** (in the menubar, select Kernel$\\rightarrow$Restart) and then **run all cells** (in the menubar, select Cell$\\rightarrow$Run All).\n",
    "\n",
    "Make sure you fill in any place that says `YOUR CODE HERE` or \"YOUR ANSWER HERE\", as well as your name and collaborators below:"
   ]
  },
  {
   "cell_type": "code",
   "execution_count": null,
   "id": "ecological-mediterranean",
   "metadata": {},
   "outputs": [],
   "source": [
    "val NAME = \"\"\n",
    "val COLLABORATORS = \"\""
   ]
  },
  {
   "cell_type": "markdown",
   "id": "color-emperor",
   "metadata": {},
   "source": [
    "---"
   ]
  },
  {
   "cell_type": "markdown",
   "id": "committed-psychology",
   "metadata": {
    "cell_style": "center",
    "deletable": false,
    "editable": false,
    "nbgrader": {
     "cell_type": "markdown",
     "checksum": "6ccb16d70f26af83e793006a5ff6c21b",
     "grade": false,
     "grade_id": "header",
     "locked": true,
     "schema_version": 3,
     "solution": false,
     "task": false
    },
    "slideshow": {
     "slide_type": "slide"
    }
   },
   "source": [
    "# Lab 4 - Functional Programming\n",
    "> Labs will be due each week before the homeworks. They are not intended take a significant amount of time but rather to provide examples/practice on specific and isolated features in the language. Labs are autograded so you can get quick feedback."
   ]
  },
  {
   "cell_type": "markdown",
   "id": "expanded-dance",
   "metadata": {
    "deletable": false,
    "editable": false,
    "nbgrader": {
     "cell_type": "markdown",
     "checksum": "9f555f0f7ac7048748fcf1a467a08721",
     "grade": false,
     "grade_id": "imports-header",
     "locked": true,
     "schema_version": 3,
     "solution": false,
     "task": false
    }
   },
   "source": [
    "### Import the necessary Chisel dependencies. \n",
    "> There will be a cell like this in every lab. Make sure you run it before proceeding to bring the Chisel Library into the Jupyter Notebook scope!"
   ]
  },
  {
   "cell_type": "code",
   "execution_count": null,
   "id": "private-consistency",
   "metadata": {
    "deletable": false,
    "editable": false,
    "nbgrader": {
     "cell_type": "code",
     "checksum": "21f209c2374499cd3c6c5043e35a7f90",
     "grade": false,
     "grade_id": "imports1",
     "locked": true,
     "schema_version": 3,
     "solution": false,
     "task": false
    }
   },
   "outputs": [],
   "source": [
    "val path = System.getProperty(\"user.dir\") + \"/resource/chisel_deps.sc\"\n",
    "interp.load.module(ammonite.ops.Path(java.nio.file.FileSystems.getDefault().getPath(path)))"
   ]
  },
  {
   "cell_type": "code",
   "execution_count": null,
   "id": "adequate-entrepreneur",
   "metadata": {
    "deletable": false,
    "editable": false,
    "nbgrader": {
     "cell_type": "code",
     "checksum": "983b6f254eef272a20e1a6a44677fe6b",
     "grade": false,
     "grade_id": "imports",
     "locked": true,
     "schema_version": 3,
     "solution": false,
     "task": false
    }
   },
   "outputs": [],
   "source": [
    "import chisel3._\n",
    "import chisel3.util._\n",
    "import chiseltest._\n",
    "import chisel3.tester.RawTester.test"
   ]
  },
  {
   "cell_type": "markdown",
   "id": "reverse-vocabulary",
   "metadata": {
    "deletable": false,
    "editable": false,
    "nbgrader": {
     "cell_type": "markdown",
     "checksum": "4883bb5a2d7be7382465b552b0de9b29",
     "grade": false,
     "grade_id": "prob1-header",
     "locked": true,
     "schema_version": 3,
     "solution": false,
     "task": false
    }
   },
   "source": [
    "## Problem 1 (3 pts) - Seq addition\n",
    "> Use Scala `zip` and `map` to add the contents two `Seq`s"
   ]
  },
  {
   "cell_type": "code",
   "execution_count": null,
   "id": "noticed-rochester",
   "metadata": {
    "deletable": false,
    "nbgrader": {
     "cell_type": "code",
     "checksum": "f64dacbdff80d8a428cff3bc5e78a47e",
     "grade": false,
     "grade_id": "prob1",
     "locked": false,
     "schema_version": 3,
     "solution": true,
     "task": false
    }
   },
   "outputs": [],
   "source": [
    "def addSeqs(a: Seq[Int], b: Seq[Int]): Seq[Int] = {\n",
    "    // YOUR CODE HERE\n",
    "    ???\n",
    "}"
   ]
  },
  {
   "cell_type": "code",
   "execution_count": null,
   "id": "wicked-healthcare",
   "metadata": {
    "deletable": false,
    "editable": false,
    "nbgrader": {
     "cell_type": "code",
     "checksum": "83906f6d7ee975197b1936c4ae665cfe",
     "grade": true,
     "grade_id": "prob1-test",
     "locked": true,
     "points": 3,
     "schema_version": 3,
     "solution": false,
     "task": false
    }
   },
   "outputs": [],
   "source": [
    "val a = Seq.tabulate(10)(_.toInt)\n",
    "val b = Seq.tabulate(10)(_.toInt)\n",
    "assert(addSeqs(a, b) == Seq(0, 2, 4, 6, 8, 10, 12, 14, 16, 18))\n"
   ]
  },
  {
   "cell_type": "markdown",
   "id": "tight-oakland",
   "metadata": {
    "deletable": false,
    "editable": false,
    "nbgrader": {
     "cell_type": "markdown",
     "checksum": "88d8c86190989910cbd4a9f43cad8b28",
     "grade": false,
     "grade_id": "prob2-header",
     "locked": true,
     "schema_version": 3,
     "solution": false,
     "task": false
    }
   },
   "source": [
    "## Problem 2 (4 pts) - zipWithIndex\n",
    "> Use `foldLeft` to implement the `exp` function (computes exponent). Then use `zipWithIndex`, `map`, and `exp` to consisely evaluate a polynomial. The index in the sequence is the degree in the polynomial (e.g. coefs(i) * x^i)"
   ]
  },
  {
   "cell_type": "code",
   "execution_count": null,
   "id": "living-semester",
   "metadata": {
    "deletable": false,
    "nbgrader": {
     "cell_type": "code",
     "checksum": "39a2091dbb394e0c8c10d733456d02cf",
     "grade": false,
     "grade_id": "prob2",
     "locked": false,
     "schema_version": 3,
     "solution": true,
     "task": false
    }
   },
   "outputs": [],
   "source": [
    "def exp(base: Int, deg: Int): Int = {\n",
    "    // YOUR CODE HERE\n",
    "    ???\n",
    "}\n",
    "\n",
    "def polyEval(coefs: Seq[Int], x: Int): Int = {\n",
    "    // YOUR CODE HERE\n",
    "    ???\n",
    "}"
   ]
  },
  {
   "cell_type": "code",
   "execution_count": null,
   "id": "moving-indie",
   "metadata": {
    "deletable": false,
    "editable": false,
    "nbgrader": {
     "cell_type": "code",
     "checksum": "0a7d455822af1f279d4671158025c09d",
     "grade": true,
     "grade_id": "prob2-test",
     "locked": true,
     "points": 4,
     "schema_version": 3,
     "solution": false,
     "task": false
    }
   },
   "outputs": [],
   "source": [
    "assert (exp(5, 0) == 1)\n",
    "assert (exp(2, 5) == 32)\n",
    "assert (exp(4, 3) == 64)\n",
    "// 0*x^0 + 1*x^1 + 2*x^2\n",
    "assert(polyEval(Seq(0, 1, 2), 5) == 55)\n",
    "assert(polyEval(Seq(0, 1, 2), 0) == 0)\n"
   ]
  },
  {
   "cell_type": "markdown",
   "id": "therapeutic-confidentiality",
   "metadata": {
    "deletable": false,
    "editable": false,
    "nbgrader": {
     "cell_type": "markdown",
     "checksum": "3d92eb8b444babc2332e04837b7a1564",
     "grade": false,
     "grade_id": "prob3-header",
     "locked": true,
     "schema_version": 3,
     "solution": false,
     "task": false
    }
   },
   "source": [
    "## Problem 3 (5 pts) - map on matrix\n",
    "> Given a `n` x `n` matrix, use `map` to add `x` to the diagonal (other cells unchanged). The matrix is in row-major order. For example if `x=4`: \n",
    "``` \n",
    "    List(1, 1, 1, 1, 1) -> List(5, 1, 1, 1, 1)\n",
    "    List(1, 1, 1, 1, 1) -> List(1, 5, 1, 1, 1)\n",
    "    List(1, 1, 1, 1, 1) -> List(1, 1, 5, 1, 1)\n",
    "    List(1, 1, 1, 1, 1) -> List(1, 1, 1, 5, 1)\n",
    "    List(1, 1, 1, 1, 1) -> List(1, 1, 1, 1, 5)\n",
    "```"
   ]
  },
  {
   "cell_type": "code",
   "execution_count": null,
   "id": "appointed-bracelet",
   "metadata": {
    "deletable": false,
    "nbgrader": {
     "cell_type": "code",
     "checksum": "77b1e04d5e6d667cde6c8400d0d9709a",
     "grade": false,
     "grade_id": "prob3",
     "locked": false,
     "schema_version": 3,
     "solution": true,
     "task": false
    }
   },
   "outputs": [],
   "source": [
    "// YOUR CODE HERE\n",
    "???"
   ]
  },
  {
   "cell_type": "code",
   "execution_count": null,
   "id": "verbal-committee",
   "metadata": {
    "deletable": false,
    "editable": false,
    "nbgrader": {
     "cell_type": "code",
     "checksum": "dc769dd9ae7adb713424a37379426b09",
     "grade": true,
     "grade_id": "prob3-test",
     "locked": true,
     "points": 5,
     "schema_version": 3,
     "solution": false,
     "task": false
    }
   },
   "outputs": [],
   "source": [
    "val in = List(\n",
    "  List(1, 1, 1, 1, 1),\n",
    "  List(1, 1, 1, 1, 1),\n",
    "  List(1, 1, 1, 1, 1),\n",
    "  List(1, 1, 1, 1, 1),\n",
    "  List(1, 1, 1, 1, 1)\n",
    ")\n",
    "\n",
    "val out = List(\n",
    "  List(5, 1, 1, 1, 1),\n",
    "  List(1, 5, 1, 1, 1),\n",
    "  List(1, 1, 5, 1, 1),\n",
    "  List(1, 1, 1, 5, 1),\n",
    "  List(1, 1, 1, 1, 5)\n",
    ")\n",
    "assert(incDiag(in, 4) == out)\n",
    "\n"
   ]
  },
  {
   "cell_type": "markdown",
   "id": "split-prerequisite",
   "metadata": {
    "deletable": false,
    "editable": false,
    "nbgrader": {
     "cell_type": "markdown",
     "checksum": "9e2b623619803596c270ebcfa7b478a1",
     "grade": false,
     "grade_id": "prob6-header",
     "locked": true,
     "schema_version": 3,
     "solution": false,
     "task": false
    }
   },
   "source": [
    "## Problem 4 (10 pts) - Parameterized Vec ALU\n",
    "> Let's put together what we've covered so far. The `VecOp` module will perform an operation on two `Vec`s specified by the `op` parameter. `op` can be three symbols: `+`, `-`, and `*`, corresponding to vector addition, subtraction, and multiplication (all with bit-growth). If a symbol other than the three specified is supplied, the module is expected to return a default `Vec` of `0.U`. Fill in the `testVecOp` function to test your work."
   ]
  },
  {
   "cell_type": "code",
   "execution_count": null,
   "id": "congressional-benefit",
   "metadata": {
    "deletable": false,
    "nbgrader": {
     "cell_type": "code",
     "checksum": "4cb18fc9ed3ccfbc51d39c3c7a76ba8a",
     "grade": false,
     "grade_id": "prob6",
     "locked": false,
     "schema_version": 3,
     "solution": true,
     "task": false
    }
   },
   "outputs": [],
   "source": [
    "class VecOp(n: Int, width: Int, op: String) extends Module {\n",
    "    val io = IO(new Bundle {\n",
    "        val a = Input(Vec(n, UInt(width.W)))\n",
    "        val b = Input(Vec(n, UInt(width.W)))\n",
    "        val c = Output(Vec(n, UInt()))\n",
    "    })\n",
    "    \n",
    "    // YOUR CODE HERE\n",
    "    ???\n",
    "    \n",
    "}\n",
    "\n",
    "def testVecOp(n: Int, width: Int, op: String): Boolean = {\n",
    "    test(new VecOp(n, width, op)) { dut =>\n",
    "        // YOUR CODE HERE\n",
    "        ???\n",
    "    }\n",
    "    true\n",
    "}"
   ]
  },
  {
   "cell_type": "code",
   "execution_count": null,
   "id": "neither-hopkins",
   "metadata": {
    "deletable": false,
    "editable": false,
    "nbgrader": {
     "cell_type": "code",
     "checksum": "b46bbef1711ac9585ed197efa897bd84",
     "grade": true,
     "grade_id": "prob6-tests",
     "locked": true,
     "points": 10,
     "schema_version": 3,
     "solution": false,
     "task": false
    }
   },
   "outputs": [],
   "source": [
    "\n",
    "assert(testVecOp(4, 4, \"+\"))\n",
    "assert(testVecOp(4, 4, \"*\"))\n",
    "assert(testVecOp(4, 4, \"-\"))\n",
    "assert(testVecOp(4, 2, \"x\"))"
   ]
  }
 ],
 "metadata": {
  "kernelspec": {
   "display_name": "Scala",
   "language": "scala",
   "name": "scala"
  },
  "language_info": {
   "codemirror_mode": "text/x-scala",
   "file_extension": ".scala",
   "mimetype": "text/x-scala",
   "name": "scala",
   "nbconvert_exporter": "script",
   "version": "2.12.10"
  }
 },
 "nbformat": 4,
 "nbformat_minor": 5
}
